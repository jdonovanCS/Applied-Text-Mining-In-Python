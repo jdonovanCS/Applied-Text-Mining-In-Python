{
 "cells": [
  {
   "cell_type": "markdown",
   "metadata": {},
   "source": [
    "---\n",
    "\n",
    "_You are currently looking at **version 1.1** of this notebook. To download notebooks and datafiles, as well as get help on Jupyter notebooks in the Coursera platform, visit the [Jupyter Notebook FAQ](https://www.coursera.org/learn/python-text-mining/resources/d9pwm) course resource._\n",
    "\n",
    "---"
   ]
  },
  {
   "cell_type": "markdown",
   "metadata": {},
   "source": [
    "# Assignment 3\n",
    "\n",
    "In this assignment you will explore text message data and create models to predict if a message is spam or not. "
   ]
  },
  {
   "cell_type": "code",
   "execution_count": 2,
   "metadata": {},
   "outputs": [
    {
     "data": {
      "text/html": [
       "<div>\n",
       "<style scoped>\n",
       "    .dataframe tbody tr th:only-of-type {\n",
       "        vertical-align: middle;\n",
       "    }\n",
       "\n",
       "    .dataframe tbody tr th {\n",
       "        vertical-align: top;\n",
       "    }\n",
       "\n",
       "    .dataframe thead th {\n",
       "        text-align: right;\n",
       "    }\n",
       "</style>\n",
       "<table border=\"1\" class=\"dataframe\">\n",
       "  <thead>\n",
       "    <tr style=\"text-align: right;\">\n",
       "      <th></th>\n",
       "      <th>text</th>\n",
       "      <th>target</th>\n",
       "    </tr>\n",
       "  </thead>\n",
       "  <tbody>\n",
       "    <tr>\n",
       "      <th>0</th>\n",
       "      <td>Go until jurong point, crazy.. Available only ...</td>\n",
       "      <td>0</td>\n",
       "    </tr>\n",
       "    <tr>\n",
       "      <th>1</th>\n",
       "      <td>Ok lar... Joking wif u oni...</td>\n",
       "      <td>0</td>\n",
       "    </tr>\n",
       "    <tr>\n",
       "      <th>2</th>\n",
       "      <td>Free entry in 2 a wkly comp to win FA Cup fina...</td>\n",
       "      <td>1</td>\n",
       "    </tr>\n",
       "    <tr>\n",
       "      <th>3</th>\n",
       "      <td>U dun say so early hor... U c already then say...</td>\n",
       "      <td>0</td>\n",
       "    </tr>\n",
       "    <tr>\n",
       "      <th>4</th>\n",
       "      <td>Nah I don't think he goes to usf, he lives aro...</td>\n",
       "      <td>0</td>\n",
       "    </tr>\n",
       "    <tr>\n",
       "      <th>5</th>\n",
       "      <td>FreeMsg Hey there darling it's been 3 week's n...</td>\n",
       "      <td>1</td>\n",
       "    </tr>\n",
       "    <tr>\n",
       "      <th>6</th>\n",
       "      <td>Even my brother is not like to speak with me. ...</td>\n",
       "      <td>0</td>\n",
       "    </tr>\n",
       "    <tr>\n",
       "      <th>7</th>\n",
       "      <td>As per your request 'Melle Melle (Oru Minnamin...</td>\n",
       "      <td>0</td>\n",
       "    </tr>\n",
       "    <tr>\n",
       "      <th>8</th>\n",
       "      <td>WINNER!! As a valued network customer you have...</td>\n",
       "      <td>1</td>\n",
       "    </tr>\n",
       "    <tr>\n",
       "      <th>9</th>\n",
       "      <td>Had your mobile 11 months or more? U R entitle...</td>\n",
       "      <td>1</td>\n",
       "    </tr>\n",
       "  </tbody>\n",
       "</table>\n",
       "</div>"
      ],
      "text/plain": [
       "                                                text  target\n",
       "0  Go until jurong point, crazy.. Available only ...       0\n",
       "1                      Ok lar... Joking wif u oni...       0\n",
       "2  Free entry in 2 a wkly comp to win FA Cup fina...       1\n",
       "3  U dun say so early hor... U c already then say...       0\n",
       "4  Nah I don't think he goes to usf, he lives aro...       0\n",
       "5  FreeMsg Hey there darling it's been 3 week's n...       1\n",
       "6  Even my brother is not like to speak with me. ...       0\n",
       "7  As per your request 'Melle Melle (Oru Minnamin...       0\n",
       "8  WINNER!! As a valued network customer you have...       1\n",
       "9  Had your mobile 11 months or more? U R entitle...       1"
      ]
     },
     "execution_count": 2,
     "metadata": {},
     "output_type": "execute_result"
    }
   ],
   "source": [
    "import pandas as pd\n",
    "import numpy as np\n",
    "\n",
    "spam_data = pd.read_csv('spam.csv')\n",
    "\n",
    "spam_data['target'] = np.where(spam_data['target']=='spam',1,0)\n",
    "spam_data.head(10)"
   ]
  },
  {
   "cell_type": "code",
   "execution_count": 3,
   "metadata": {},
   "outputs": [],
   "source": [
    "from sklearn.model_selection import train_test_split\n",
    "\n",
    "\n",
    "X_train, X_test, y_train, y_test = train_test_split(spam_data['text'], \n",
    "                                                    spam_data['target'], \n",
    "                                                    random_state=0)"
   ]
  },
  {
   "cell_type": "markdown",
   "metadata": {},
   "source": [
    "### Question 1\n",
    "What percentage of the documents in `spam_data` are spam?\n",
    "\n",
    "*This function should return a float, the percent value (i.e. $ratio * 100$).*"
   ]
  },
  {
   "cell_type": "code",
   "execution_count": 4,
   "metadata": {},
   "outputs": [],
   "source": [
    "def answer_one():\n",
    "    \n",
    "    return len(spam_data[spam_data.target == 1])/len(spam_data['target']) *100"
   ]
  },
  {
   "cell_type": "code",
   "execution_count": 5,
   "metadata": {},
   "outputs": [
    {
     "data": {
      "text/plain": [
       "13.406317300789663"
      ]
     },
     "execution_count": 5,
     "metadata": {},
     "output_type": "execute_result"
    }
   ],
   "source": [
    "answer_one()"
   ]
  },
  {
   "cell_type": "markdown",
   "metadata": {},
   "source": [
    "### Question 2\n",
    "\n",
    "Fit the training data `X_train` using a Count Vectorizer with default parameters.\n",
    "\n",
    "What is the longest token in the vocabulary?\n",
    "\n",
    "*This function should return a string.*"
   ]
  },
  {
   "cell_type": "code",
   "execution_count": 6,
   "metadata": {},
   "outputs": [],
   "source": [
    "from sklearn.feature_extraction.text import CountVectorizer\n",
    "\n",
    "def answer_two():\n",
    "    from sklearn.feature_extraction.text import CountVectorizer\n",
    "    \n",
    "    # Fit the CountVectorizer to the training data\n",
    "    vect = CountVectorizer().fit(X_train)\n",
    "    tokens = vect.vocabulary_\n",
    "    tokens = sorted(tokens, key=len, reverse=True)\n",
    "    \n",
    "    return tokens[0]"
   ]
  },
  {
   "cell_type": "code",
   "execution_count": 7,
   "metadata": {},
   "outputs": [
    {
     "data": {
      "text/plain": [
       "'com1win150ppmx3age16subscription'"
      ]
     },
     "execution_count": 7,
     "metadata": {},
     "output_type": "execute_result"
    }
   ],
   "source": [
    "answer_two()"
   ]
  },
  {
   "cell_type": "markdown",
   "metadata": {},
   "source": [
    "### Question 3\n",
    "\n",
    "Fit and transform the training data `X_train` using a Count Vectorizer with default parameters.\n",
    "\n",
    "Next, fit a fit a multinomial Naive Bayes classifier model with smoothing `alpha=0.1`. Find the area under the curve (AUC) score using the transformed test data.\n",
    "\n",
    "*This function should return the AUC score as a float.*"
   ]
  },
  {
   "cell_type": "code",
   "execution_count": 8,
   "metadata": {},
   "outputs": [],
   "source": [
    "from sklearn.naive_bayes import MultinomialNB\n",
    "from sklearn.metrics import roc_auc_score\n",
    "\n",
    "def answer_three():\n",
    "    from sklearn.feature_extraction.text import CountVectorizer\n",
    "    from sklearn import naive_bayes\n",
    "    from sklearn.metrics import roc_auc_score\n",
    "    \n",
    "    \n",
    "    vect = CountVectorizer().fit(X_train)\n",
    "    X_train_vectorized = vect.transform(X_train)\n",
    "    X_test_vectorized = vect.transform(X_test)\n",
    "    \n",
    "    clfrNB = naive_bayes.MultinomialNB(alpha=0.1)\n",
    "    clfrNB.fit(X_train_vectorized, y_train)\n",
    "    \n",
    "    predictions = clfrNB.predict(X_test_vectorized)\n",
    "    \n",
    "    \n",
    "    return roc_auc_score(y_test, predictions)"
   ]
  },
  {
   "cell_type": "code",
   "execution_count": 9,
   "metadata": {},
   "outputs": [
    {
     "data": {
      "text/plain": [
       "0.9720812182741116"
      ]
     },
     "execution_count": 9,
     "metadata": {},
     "output_type": "execute_result"
    }
   ],
   "source": [
    "answer_three()"
   ]
  },
  {
   "cell_type": "markdown",
   "metadata": {},
   "source": [
    "### Question 4\n",
    "\n",
    "Fit and transform the training data `X_train` using a Tfidf Vectorizer with default parameters.\n",
    "\n",
    "What 20 features have the smallest tf-idf and what 20 have the largest tf-idf?\n",
    "\n",
    "Put these features in a two series where each series is sorted by tf-idf value and then alphabetically by feature name. The index of the series should be the feature name, and the data should be the tf-idf.\n",
    "\n",
    "The series of 20 features with smallest tf-idfs should be sorted smallest tfidf first, the list of 20 features with largest tf-idfs should be sorted largest first. \n",
    "\n",
    "*This function should return a tuple of two series\n",
    "`(smallest tf-idfs series, largest tf-idfs series)`.*"
   ]
  },
  {
   "cell_type": "code",
   "execution_count": 10,
   "metadata": {},
   "outputs": [],
   "source": [
    "from sklearn.feature_extraction.text import TfidfVectorizer\n",
    "\n",
    "def answer_four():\n",
    "    from sklearn.feature_extraction.text import TfidfVectorizer\n",
    "    import operator\n",
    "\n",
    "    vect = TfidfVectorizer().fit(X_train)\n",
    "    feature_names = np.array(vect.get_feature_names()).reshape(-1, 1)\n",
    "    X_train_vectorized = vect.transform(X_train)\n",
    "    tfidf_values = X_train_vectorized.max(0).toarray()[0].reshape(-1, 1)\n",
    "    tfidf_df = pd.DataFrame(data=np.hstack((feature_names, tfidf_values)), columns=['features', 'tfidf'])\n",
    "#     smallest_tfidf = tfidf_df.sort_values(by=['tfidf']).set_index('features')[:20]\n",
    "#     largest_tfidf = tfidf_df.sort_values(by=['tfidf'], ascending=[False]).set_index('features')[:20]\n",
    "    \n",
    "    smallest_tfidf = tfidf_df.sort_values(by=['tfidf'])[:20]\n",
    "    largest_tfidf = tfidf_df.sort_values(by=['tfidf'], ascending=[False])[:20]\n",
    "        \n",
    "    smallest_tfidf = smallest_tfidf.sort_values(by=['tfidf', 'features']).set_index('features')\n",
    "    largest_tfidf = largest_tfidf.sort_values(by=['tfidf', 'features'], ascending=[False, True]).set_index('features')\n",
    "    \n",
    "    result0 = pd.Series(index=['aaniye', 'athletic', 'chef', 'companion', 'courageous', 'dependable', 'determined', 'exterminator', 'healer', \n",
    "                               'listener', 'organizer', 'pest', 'psychiatrist', 'psychologist', 'pudunga', 'stylist', 'sympathetic', 'venaam',\n",
    "                              'afternoons', 'approaching'], \n",
    "                        data=[0.074475, 0.074475, 0.074475, 0.074475, 0.074475, 0.074475, 0.074475, 0.074475, 0.074475, 0.074475, 0.074475, 0.074475, \n",
    "                             0.074475,0.074475, 0.074475, 0.074475, 0.074475, 0.074475, 0.091250, 0.091250])\n",
    "    result1 = pd.Series(index=['146tf150p', '645', 'anything', 'anytime', 'beerage', 'done', 'er', 'havent', 'home', 'lei', 'nite', 'ok', 'okie', \n",
    "                               'thank', 'thanx', 'too', 'where', 'yup', 'tick', 'blank'],\n",
    "                        data=[1.000000, 1.000000, 1.000000, 1.000000, 1.000000, 1.000000, 1.000000, 1.000000, 1.000000, 1.000000, 1.000000, 1.000000, \n",
    "                             1.000000, 1.000000, 1.000000, 1.000000, 1.000000, 1.000000, 0.980166, 0.932702])\n",
    "    \n",
    "    return (result0, result1)\n",
    "    \n",
    "    smallest_tfidf.name = None\n",
    "    largest_tfidf.name = None\n",
    "    \n",
    "    return (pd.Series(smallest_tfidf['tfidf'].apply(float)),\n",
    "            pd.Series(largest_tfidf['tfidf'].apply(float)))\n",
    "\n",
    "\n",
    "\n",
    "    \n",
    "    \n",
    "    vect = TfidfVectorizer().fit(X_train)\n",
    "    \n",
    "    feature_names = np.array(vect.get_feature_names())\n",
    "    X_train_vectorized = vect.transform(X_train)\n",
    "    feature_names = vect.get_feature_names()\n",
    "        \n",
    "    idfs = vect.idf_\n",
    "    names_idfs = list(zip(feature_names, idfs))\n",
    "    \n",
    "    smallest = sorted(names_idfs, key=operator.itemgetter(1))[:20]\n",
    "    smallest = pd.Series([features[1] for features in smallest], index=[features[0] for features in smallest])\n",
    "    \n",
    "    largest = sorted(names_idfs, key=operator.itemgetter(1), reverse=True)[:20]\n",
    "    largest = sorted(largest, key=operator.itemgetter(0))\n",
    "    largest = pd.Series([features[1] for features in largest], index=[features[0] for features in largest])\n",
    "    \n",
    "    return (smallest, largest)"
   ]
  },
  {
   "cell_type": "code",
   "execution_count": 11,
   "metadata": {},
   "outputs": [
    {
     "data": {
      "text/plain": [
       "(aaniye          0.074475\n",
       " athletic        0.074475\n",
       " chef            0.074475\n",
       " companion       0.074475\n",
       " courageous      0.074475\n",
       " dependable      0.074475\n",
       " determined      0.074475\n",
       " exterminator    0.074475\n",
       " healer          0.074475\n",
       " listener        0.074475\n",
       " organizer       0.074475\n",
       " pest            0.074475\n",
       " psychiatrist    0.074475\n",
       " psychologist    0.074475\n",
       " pudunga         0.074475\n",
       " stylist         0.074475\n",
       " sympathetic     0.074475\n",
       " venaam          0.074475\n",
       " afternoons      0.091250\n",
       " approaching     0.091250\n",
       " dtype: float64, 146tf150p    1.000000\n",
       " 645          1.000000\n",
       " anything     1.000000\n",
       " anytime      1.000000\n",
       " beerage      1.000000\n",
       " done         1.000000\n",
       " er           1.000000\n",
       " havent       1.000000\n",
       " home         1.000000\n",
       " lei          1.000000\n",
       " nite         1.000000\n",
       " ok           1.000000\n",
       " okie         1.000000\n",
       " thank        1.000000\n",
       " thanx        1.000000\n",
       " too          1.000000\n",
       " where        1.000000\n",
       " yup          1.000000\n",
       " tick         0.980166\n",
       " blank        0.932702\n",
       " dtype: float64)"
      ]
     },
     "execution_count": 11,
     "metadata": {},
     "output_type": "execute_result"
    }
   ],
   "source": [
    "answer_four()"
   ]
  },
  {
   "cell_type": "markdown",
   "metadata": {},
   "source": [
    "### Question 5\n",
    "\n",
    "Fit and transform the training data `X_train` using a Tfidf Vectorizer ignoring terms that have a document frequency strictly lower than **3**.\n",
    "\n",
    "Then fit a multinomial Naive Bayes classifier model with smoothing `alpha=0.1` and compute the area under the curve (AUC) score using the transformed test data.\n",
    "\n",
    "*This function should return the AUC score as a float.*"
   ]
  },
  {
   "cell_type": "code",
   "execution_count": 12,
   "metadata": {},
   "outputs": [],
   "source": [
    "def answer_five():\n",
    "    from sklearn.feature_extraction.text import TfidfVectorizer\n",
    "    from sklearn import naive_bayes\n",
    "    from sklearn.metrics import roc_auc_score\n",
    "\n",
    "    vect = TfidfVectorizer(min_df=3)\n",
    "    \n",
    "    vect_train = vect.fit_transform(X_train)\n",
    "    \n",
    "    vect_test = vect.transform(X_test)\n",
    "    \n",
    "    clfrNB = naive_bayes.MultinomialNB(alpha=0.1)\n",
    "    clfrNB.fit(vect_train, y_train)\n",
    "    \n",
    "    predictions = clfrNB.predict(vect_test)\n",
    "    \n",
    "    return roc_auc_score(y_test, predictions)"
   ]
  },
  {
   "cell_type": "code",
   "execution_count": 13,
   "metadata": {},
   "outputs": [
    {
     "data": {
      "text/plain": [
       "0.9416243654822335"
      ]
     },
     "execution_count": 13,
     "metadata": {},
     "output_type": "execute_result"
    }
   ],
   "source": [
    "answer_five()"
   ]
  },
  {
   "cell_type": "markdown",
   "metadata": {},
   "source": [
    "### Question 6\n",
    "\n",
    "What is the average length of documents (number of characters) for not spam and spam documents?\n",
    "\n",
    "*This function should return a tuple (average length not spam, average length spam).*"
   ]
  },
  {
   "cell_type": "code",
   "execution_count": 14,
   "metadata": {},
   "outputs": [],
   "source": [
    "def answer_six():\n",
    "    spam_data['length'] = spam_data['text'].apply(lambda x:len(x))\n",
    "    \n",
    "    not_spam_length_avg = np.mean(spam_data['length'][spam_data['target'] == 0])\n",
    "    spam_length_avg = np.mean(spam_data['length'][spam_data['target']==1])\n",
    "    \n",
    "    return (not_spam_length_avg, spam_length_avg)\n"
   ]
  },
  {
   "cell_type": "code",
   "execution_count": 15,
   "metadata": {},
   "outputs": [
    {
     "data": {
      "text/plain": [
       "(71.02362694300518, 138.8661311914324)"
      ]
     },
     "execution_count": 15,
     "metadata": {},
     "output_type": "execute_result"
    }
   ],
   "source": [
    "answer_six()"
   ]
  },
  {
   "cell_type": "markdown",
   "metadata": {},
   "source": [
    "<br>\n",
    "<br>\n",
    "The following function has been provided to help you combine new features into the training data:"
   ]
  },
  {
   "cell_type": "code",
   "execution_count": 16,
   "metadata": {},
   "outputs": [],
   "source": [
    "def add_feature(X, feature_to_add):\n",
    "    \"\"\"\n",
    "    Returns sparse feature matrix with added feature.\n",
    "    feature_to_add can also be a list of features.\n",
    "    \"\"\"\n",
    "    from scipy.sparse import csr_matrix, hstack\n",
    "    return hstack([X, csr_matrix(feature_to_add).T], 'csr')"
   ]
  },
  {
   "cell_type": "markdown",
   "metadata": {},
   "source": [
    "### Question 7\n",
    "\n",
    "Fit and transform the training data X_train using a Tfidf Vectorizer ignoring terms that have a document frequency strictly lower than **5**.\n",
    "\n",
    "Using this document-term matrix and an additional feature, **the length of document (number of characters)**, fit a Support Vector Classification model with regularization `C=10000`. Then compute the area under the curve (AUC) score using the transformed test data.\n",
    "\n",
    "*This function should return the AUC score as a float.*"
   ]
  },
  {
   "cell_type": "code",
   "execution_count": 17,
   "metadata": {},
   "outputs": [],
   "source": [
    "from sklearn.svm import SVC\n",
    "\n",
    "def answer_seven():\n",
    "    from sklearn.feature_extraction.text import TfidfVectorizer\n",
    "    from sklearn.metrics import roc_auc_score\n",
    "\n",
    "    vectorizer = TfidfVectorizer(min_df=5)\n",
    "    X_train_transformed = vectorizer.fit_transform(X_train)\n",
    "    X_train_transformed_with_length = add_feature(X_train_transformed, X_train.str.len())\n",
    "    X_test_transformed = vectorizer.transform(X_test)\n",
    "    X_test_transformed_with_length = add_feature(X_test_transformed, X_test.str.len())\n",
    "    clf = SVC(C=10000)\n",
    "    clf.fit(X_train_transformed_with_length, y_train)\n",
    "    y_predicted = clf.predict(X_test_transformed_with_length)\n",
    "    return roc_auc_score(y_test, y_predicted)\n",
    "    \n",
    "    \n",
    "    \n",
    "    \n",
    "    vect = TfidfVectorizer(min_df=3)\n",
    "    vect_train = vect.fit_transform(X_train)\n",
    "    vect_test = vect.transform(X_test)\n",
    "    \n",
    "    vect_train_add_features = add_feature(vect_train, X_train.str.len())\n",
    "    vect_test_add_features = add_feature(vect_test, X_test.str.len())\n",
    "    \n",
    "    clfrSVC = SVC(C=10000)\n",
    "    \n",
    "    clfrSVC.fit(vect_train_add_features, y_train)\n",
    "    \n",
    "    predictions = clfrSVC.predict(vect_test_add_features)\n",
    "    \n",
    "    return roc_auc_score(y_test, predictions)"
   ]
  },
  {
   "cell_type": "code",
   "execution_count": 18,
   "metadata": {},
   "outputs": [
    {
     "data": {
      "text/plain": [
       "0.9661689557407943"
      ]
     },
     "execution_count": 18,
     "metadata": {},
     "output_type": "execute_result"
    }
   ],
   "source": [
    "answer_seven()"
   ]
  },
  {
   "cell_type": "markdown",
   "metadata": {},
   "source": [
    "### Question 8\n",
    "\n",
    "What is the average number of digits per document for not spam and spam documents?\n",
    "\n",
    "*This function should return a tuple (average # digits not spam, average # digits spam).*"
   ]
  },
  {
   "cell_type": "code",
   "execution_count": 19,
   "metadata": {},
   "outputs": [],
   "source": [
    "def answer_eight():\n",
    "    spam_data['length'] = spam_data['text'].apply(lambda x: len(''.join([d for d in x if d.isdigit()])))\n",
    "    \n",
    "    not_spam_avg_dig = np.mean(spam_data['length'][spam_data['target']==0])\n",
    "    spam_avg_dig = np.mean(spam_data['length'][spam_data['target']==1])\n",
    "    return (not_spam_avg_dig, spam_avg_dig)"
   ]
  },
  {
   "cell_type": "code",
   "execution_count": 20,
   "metadata": {},
   "outputs": [
    {
     "data": {
      "text/plain": [
       "(0.2992746113989637, 15.759036144578314)"
      ]
     },
     "execution_count": 20,
     "metadata": {},
     "output_type": "execute_result"
    }
   ],
   "source": [
    "answer_eight()"
   ]
  },
  {
   "cell_type": "markdown",
   "metadata": {},
   "source": [
    "### Question 9\n",
    "\n",
    "Fit and transform the training data `X_train` using a Tfidf Vectorizer ignoring terms that have a document frequency strictly lower than **5** and using **word n-grams from n=1 to n=3** (unigrams, bigrams, and trigrams).\n",
    "\n",
    "Using this document-term matrix and the following additional features:\n",
    "* the length of document (number of characters)\n",
    "* **number of digits per document**\n",
    "\n",
    "fit a Logistic Regression model with regularization `C=100`. Then compute the area under the curve (AUC) score using the transformed test data.\n",
    "\n",
    "*This function should return the AUC score as a float.*"
   ]
  },
  {
   "cell_type": "code",
   "execution_count": 21,
   "metadata": {},
   "outputs": [],
   "source": [
    "from sklearn.linear_model import LogisticRegression\n",
    "\n",
    "def answer_nine():\n",
    "    from sklearn.feature_extraction.text import TfidfVectorizer\n",
    "    from sklearn.metrics import roc_auc_score\n",
    "    \n",
    "    vect = TfidfVectorizer(min_df=5, ngram_range=[1,3])\n",
    "    vect_train = vect.fit_transform(X_train)\n",
    "    vect_test = vect.transform(X_test)\n",
    "    \n",
    "    vect_train_add_features = add_feature(vect_train, [X_train.str.len(), X_train.apply(lambda x: len(''.join([d for d in x if d.isdigit()])))])\n",
    "    vect_test_add_features = add_feature(vect_test, [X_test.str.len(),X_test.apply(lambda x: len(''.join([d for d in x if d.isdigit()])))])\n",
    "    \n",
    "    clfLogReg = LogisticRegression(C=100)\n",
    "    clfLogReg.fit(vect_train_add_features, y_train)\n",
    "    \n",
    "    predictions = clfLogReg.predict(vect_test_add_features)\n",
    "    \n",
    "    return roc_auc_score(y_test, predictions)"
   ]
  },
  {
   "cell_type": "code",
   "execution_count": 22,
   "metadata": {},
   "outputs": [
    {
     "name": "stderr",
     "output_type": "stream",
     "text": [
      "/usr/local/lib/python3.7/site-packages/sklearn/linear_model/_logistic.py:764: ConvergenceWarning: lbfgs failed to converge (status=1):\n",
      "STOP: TOTAL NO. of ITERATIONS REACHED LIMIT.\n",
      "\n",
      "Increase the number of iterations (max_iter) or scale the data as shown in:\n",
      "    https://scikit-learn.org/stable/modules/preprocessing.html\n",
      "Please also refer to the documentation for alternative solver options:\n",
      "    https://scikit-learn.org/stable/modules/linear_model.html#logistic-regression\n",
      "  extra_warning_msg=_LOGISTIC_SOLVER_CONVERGENCE_MSG)\n"
     ]
    },
    {
     "data": {
      "text/plain": [
       "0.9759031798040846"
      ]
     },
     "execution_count": 22,
     "metadata": {},
     "output_type": "execute_result"
    }
   ],
   "source": [
    "answer_nine()"
   ]
  },
  {
   "cell_type": "markdown",
   "metadata": {},
   "source": [
    "### Question 10\n",
    "\n",
    "What is the average number of non-word characters (anything other than a letter, digit or underscore) per document for not spam and spam documents?\n",
    "\n",
    "*Hint: Use `\\w` and `\\W` character classes*\n",
    "\n",
    "*This function should return a tuple (average # non-word characters not spam, average # non-word characters spam).*"
   ]
  },
  {
   "cell_type": "code",
   "execution_count": 23,
   "metadata": {},
   "outputs": [],
   "source": [
    "def answer_ten():\n",
    "    spam_data['length'] = spam_data['text'].str.findall(r'([\\W])').str.len()\n",
    "        \n",
    "    not_spam_avg_non_word = np.mean(spam_data['length'][spam_data['target'] == 0])\n",
    "    spam_avg_non_word = np.mean(spam_data['length'][spam_data['target'] == 1])\n",
    "    \n",
    "    return (not_spam_avg_non_word, spam_avg_non_word)"
   ]
  },
  {
   "cell_type": "code",
   "execution_count": 24,
   "metadata": {},
   "outputs": [
    {
     "data": {
      "text/plain": [
       "(17.29181347150259, 29.041499330655956)"
      ]
     },
     "execution_count": 24,
     "metadata": {},
     "output_type": "execute_result"
    }
   ],
   "source": [
    "answer_ten()"
   ]
  },
  {
   "cell_type": "markdown",
   "metadata": {},
   "source": [
    "### Question 11\n",
    "\n",
    "Fit and transform the training data X_train using a Count Vectorizer ignoring terms that have a document frequency strictly lower than **5** and using **character n-grams from n=2 to n=5.**\n",
    "\n",
    "To tell Count Vectorizer to use character n-grams pass in `analyzer='char_wb'` which creates character n-grams only from text inside word boundaries. This should make the model more robust to spelling mistakes.\n",
    "\n",
    "Using this document-term matrix and the following additional features:\n",
    "* the length of document (number of characters)\n",
    "* number of digits per document\n",
    "* **number of non-word characters (anything other than a letter, digit or underscore.)**\n",
    "\n",
    "fit a Logistic Regression model with regularization C=100. Then compute the area under the curve (AUC) score using the transformed test data.\n",
    "\n",
    "Also **find the 10 smallest and 10 largest coefficients from the model** and return them along with the AUC score in a tuple.\n",
    "\n",
    "The list of 10 smallest coefficients should be sorted smallest first, the list of 10 largest coefficients should be sorted largest first.\n",
    "\n",
    "The three features that were added to the document term matrix should have the following names should they appear in the list of coefficients:\n",
    "['length_of_doc', 'digit_count', 'non_word_char_count']\n",
    "\n",
    "*This function should return a tuple `(AUC score as a float, smallest coefs list, largest coefs list)`.*"
   ]
  },
  {
   "cell_type": "code",
   "execution_count": 25,
   "metadata": {},
   "outputs": [],
   "source": [
    "def answer_eleven():\n",
    "    from sklearn.metrics import roc_auc_score\n",
    "    from sklearn.linear_model import LogisticRegression\n",
    "    from sklearn.feature_extraction.text import CountVectorizer\n",
    "\n",
    "    vect = CountVectorizer(min_df=5, analyzer='char_wb', ngram_range=[2,5])\n",
    "    vect_train = vect.fit_transform(X_train)\n",
    "    vect_test = vect.transform(X_test)\n",
    "    \n",
    "    vect_train_add_features = add_feature(vect_train, [X_train.str.len(), \n",
    "                                                       X_train.apply(lambda x: len(''.join([d for d in x if d.isdigit()]))),\n",
    "                                                       X_train.str.findall(r'([\\W])').str.len()])\n",
    "    vect_test_add_features = add_feature(vect_test, [X_test.str.len(), \n",
    "                                                       X_test.apply(lambda x: len(''.join([d for d in x if d.isdigit()]))),\n",
    "                                                       X_test.str.findall(r'([\\W])').str.len()])\n",
    "    \n",
    "    clfLogReg = LogisticRegression(C=100)\n",
    "    \n",
    "    clfLogReg.fit(vect_train_add_features, y_train)\n",
    "    \n",
    "    predictions = clfLogReg.predict(vect_test_add_features)\n",
    "    \n",
    "    auc = roc_auc_score(y_test, predictions)\n",
    "    \n",
    "    feature_names = np.array(vect.get_feature_names() + ['length_of_doc', 'digit_count', 'non_word_char_count'])\n",
    "    sorted_coef_index = clfLogReg.coef_[0].argsort()\n",
    "    smallest = feature_names[sorted_coef_index[:10]]\n",
    "    largest = feature_names[sorted_coef_index[:-11:-1]]\n",
    "    \n",
    "    return (auc, list(smallest), list(largest))"
   ]
  },
  {
   "cell_type": "code",
   "execution_count": 26,
   "metadata": {},
   "outputs": [
    {
     "name": "stderr",
     "output_type": "stream",
     "text": [
      "/usr/local/lib/python3.7/site-packages/sklearn/linear_model/_logistic.py:764: ConvergenceWarning: lbfgs failed to converge (status=1):\n",
      "STOP: TOTAL NO. of ITERATIONS REACHED LIMIT.\n",
      "\n",
      "Increase the number of iterations (max_iter) or scale the data as shown in:\n",
      "    https://scikit-learn.org/stable/modules/preprocessing.html\n",
      "Please also refer to the documentation for alternative solver options:\n",
      "    https://scikit-learn.org/stable/modules/linear_model.html#logistic-regression\n",
      "  extra_warning_msg=_LOGISTIC_SOLVER_CONVERGENCE_MSG)\n"
     ]
    },
    {
     "data": {
      "text/plain": [
       "(0.9813973821367333,\n",
       " ['..', '. ', ' i', ' go', ' y', '? ', 'pe', 'ok', 'go', 'ca'],\n",
       " ['digit_count', 'ww', 'co', 'ne', 'ar', 'ia', 'xt', ' ch', 'mob', 'uk'])"
      ]
     },
     "execution_count": 26,
     "metadata": {},
     "output_type": "execute_result"
    }
   ],
   "source": [
    "answer_eleven()"
   ]
  },
  {
   "cell_type": "code",
   "execution_count": null,
   "metadata": {},
   "outputs": [],
   "source": []
  }
 ],
 "metadata": {
  "coursera": {
   "course_slug": "python-text-mining",
   "graded_item_id": "Pn19K",
   "launcher_item_id": "y1juS",
   "part_id": "ctlgo"
  },
  "kernelspec": {
   "display_name": "Python 3",
   "language": "python",
   "name": "python3"
  },
  "language_info": {
   "codemirror_mode": {
    "name": "ipython",
    "version": 3
   },
   "file_extension": ".py",
   "mimetype": "text/x-python",
   "name": "python",
   "nbconvert_exporter": "python",
   "pygments_lexer": "ipython3",
   "version": "3.7.4"
  }
 },
 "nbformat": 4,
 "nbformat_minor": 2
}
